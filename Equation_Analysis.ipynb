{
 "cells": [
  {
   "cell_type": "markdown",
   "metadata": {},
   "source": [
    "# Equation Analysis Comparing Python code (here) with the Paper\n",
    "\n",
    "To discretize the dynamic function updates, clever methods were utilized to update the variables using the Euler scheme. However, for compurational efficiency certain variables would be factored out of the code. \n",
    "Further, certain variables were scaled to speed up the simulation process. The combination is thus confusion for those who are not engaged with the code on a regular basis. \n",
    "Thus, this notebook aims to clarify some of the differences and how each equations are implemented in the code.\n",
    "\n",
    "Specifically, this notebook focuses on the model `get_stationary_states_arange_x_homogenousNetwork.py`, other models or scripts should be able to be extrapolated from the analysis on this model.\n"
   ]
  },
  {
   "cell_type": "markdown",
   "metadata": {},
   "source": [
    "## Equation 5:\n",
    "![Alt text](image.png) "
   ]
  },
  {
   "cell_type": "markdown",
   "metadata": {},
   "source": [
    "`v_Offset=ne.evaluate('1/tau*((Vrest-v) +(Vnoise-v)*Snoise+(Vexc-v)*Sexc+(Vinh-v)*Sinh)')`\n",
    "- Line 191 - in file: `get_stationary_states_arange_x_homogeneousNetwork.py'\n",
    "\n",
    "\n",
    "For clariy, we can rewrite the code in the following way: \n",
    "```python\n",
    "v_Offset=ne.evaluate( '1/tau*( (Vrest-v) + \\\n",
    "                               (Vnoise-v)*Snoise + \\\n",
    "                               (Vexc-v)*Sexc + \\\n",
    "                               (Vinh-v)*Sinh \\\n",
    "                             )' \n",
    "                    )\n",
    "```\n"
   ]
  },
  {
   "cell_type": "markdown",
   "metadata": {},
   "source": [
    "## Equation 6: \n",
    "![Alt text](image-1.png)"
   ]
  },
  {
   "cell_type": "markdown",
   "metadata": {},
   "source": [
    "## Equation 7: \n",
    "![Alt text](image-2.png)"
   ]
  },
  {
   "cell_type": "markdown",
   "metadata": {},
   "source": [
    "## Equation 8:\n",
    "![Alt text](image-3.png)"
   ]
  },
  {
   "cell_type": "markdown",
   "metadata": {},
   "source": [
    "## Equation 9: \n",
    "![Alt text](image-4.png)"
   ]
  },
  {
   "cell_type": "markdown",
   "metadata": {},
   "source": [
    "## Parameter values: \n",
    "![Alt text](image-5.png)"
   ]
  },
  {
   "cell_type": "markdown",
   "metadata": {},
   "source": []
  }
 ],
 "metadata": {
  "language_info": {
   "name": "python"
  },
  "orig_nbformat": 4
 },
 "nbformat": 4,
 "nbformat_minor": 2
}
