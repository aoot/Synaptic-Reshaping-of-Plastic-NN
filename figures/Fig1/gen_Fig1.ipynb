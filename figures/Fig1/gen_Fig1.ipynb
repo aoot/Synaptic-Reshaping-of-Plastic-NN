{
 "cells": [
  {
   "cell_type": "code",
   "execution_count": 1,
   "id": "dbd5e38a",
   "metadata": {},
   "outputs": [],
   "source": [
    "import numpy as np\n",
    "import matplotlib.pyplot as plt\n",
    "import sys\n",
    "import os\n",
    "import scipy.sparse\n",
    "import matplotlib.gridspec as gridspec\n",
    "import pickle5\n",
    "sys.path.append( \"../../data_evaluation\")\n",
    "import handle_dictionaries\n",
    "import spikeTrainAnalysis as sta\n",
    "from scipy.interpolate import griddata\n",
    "import matplotlib.colors as mcolors\n",
    "\n",
    "from scipy.optimize import curve_fit"
   ]
  },
  {
   "cell_type": "markdown",
   "id": "4f3b6e0a",
   "metadata": {},
   "source": [
    "# generate panels c, e and f"
   ]
  },
  {
   "cell_type": "markdown",
   "id": "613e5444",
   "metadata": {},
   "source": [
    "panel c"
   ]
  },
  {
   "cell_type": "code",
   "execution_count": 5,
   "id": "04f7959f",
   "metadata": {},
   "outputs": [
    {
     "data": {
      "text/plain": [
       "Text(0.5, 0, '$\\\\Delta t$')"
      ]
     },
     "execution_count": 5,
     "metadata": {},
     "output_type": "execute_result"
    },
    {
     "data": {
      "image/png": "[encoded data removed]",
      "text/plain": [
       "<Figure size 216x144 with 1 Axes>"
      ]
     },
     "metadata": {
      "needs_background": "light"
     },
     "output_type": "display_data"
    }
   ],
   "source": [
    "ticksFontsize = 13\n",
    "labelFontsize = 15\n",
    "\n",
    "\n",
    "t = np.arange(-200,200,0.1) # ms\n",
    "STDP_func = STDP( t )\n",
    "\n",
    "fig = plt.figure( figsize = (3,2))\n",
    "\n",
    "ax = fig.add_subplot( 111 )\n",
    "ax.plot( t , STDP_func , color = 'black')\n",
    "\n",
    "ax.plot( t , np.zeros( t.shape ) , color = 'gray', ls='--')\n",
    "\n",
    "ax.spines['top'].set_visible(False)\n",
    "#ax.spines['bottom'].set_visible(False)\n",
    "ax.spines['right'].set_visible(False)\n",
    "\n",
    "ax.set_xticks([-200,-100,0,100,200])\n",
    "ax.set_yticks([-0.5,0,0.5,1])\n",
    "\n",
    "ax.set_xticklabels(['$-200$','','$0$','','$200$'], fontsize = ticksFontsize )\n",
    "ax.set_yticklabels(['','$0$','','$\\eta$'], fontsize = ticksFontsize)\n",
    "\n",
    "ax.set_xlim(-200,200)\n",
    "ax.set_xlim(-200,200)\n",
    "\n",
    "ax.set_ylabel('$W$', fontsize = labelFontsize)\n",
    "ax.set_xlabel('$\\Delta t$', fontsize = labelFontsize)\n",
    "\n",
    "# plt.savefig('STDP.svg', bbox_inches='tight')\n",
    "# plt.savefig('STDP.png', bbox_inches='tight', dpi=300)\n",
    "# plt.savefig('STDP.pdf', bbox_inches='tight')"
   ]
  },
  {
   "cell_type": "markdown",
   "id": "20eaf74c",
   "metadata": {},
   "source": [
    "panel e"
   ]
  },
  {
   "cell_type": "markdown",
   "id": "da11ee8a",
   "metadata": {},
   "source": [
    "get data"
   ]
  },
  {
   "cell_type": "code",
   "execution_count": 9,
   "id": "e1ad4c25",
   "metadata": {},
   "outputs": [
    {
     "name": "stderr",
     "output_type": "stream",
     "text": [
      "/Users/jkromer/Library/Python/3.7/lib/python/site-packages/ipykernel_launcher.py:17: RuntimeWarning: divide by zero encountered in double_scalars\n",
      "/Users/jkromer/Library/Python/3.7/lib/python/site-packages/ipykernel_launcher.py:18: RuntimeWarning: invalid value encountered in double_scalars\n"
     ]
    }
   ],
   "source": [
    "Dalpha_array = np.linspace( 0,1,200 )\n",
    "f_array = np.linspace( 0,50,200 )\n",
    "\n",
    "tau = 3.0 # ms\n",
    "\n",
    "Dalpha_2d = np.zeros(  (len(Dalpha_array),len(f_array))  )\n",
    "f_array_2d = np.zeros(  (len(Dalpha_array),len(f_array))  )\n",
    "OneSynapse_2d = np.zeros(  (len(Dalpha_array),len(f_array))  )\n",
    "wMinus_OneSynapse_2d = np.zeros(  (len(Dalpha_array),len(f_array))  )\n",
    "wPlus_OneSynapse_2d = np.zeros(  (len(Dalpha_array),len(f_array))  )\n",
    "\n",
    "wBoth_2D = np.zeros(  (len(Dalpha_array),len(f_array))  )\n",
    "\n",
    "for kDalpha in range( len(Dalpha_array) ):\n",
    "    Dalpha = Dalpha_array[ kDalpha ]\n",
    "    \n",
    "    for kf in range( len(f_array) ):     \n",
    "        f = f_array[ kf ]\n",
    "        \n",
    "        Dalpha_2d[  kDalpha , kf ] = Dalpha\n",
    "        f_array_2d[ kDalpha , kf ] = f\n",
    "        total, minus, plus  = OneSynapse( Dalpha , f , tau )\n",
    "        OneSynapse_2d[ kDalpha , kf ] = total\n",
    "        wMinus_OneSynapse_2d[ kDalpha , kf ] = minus\n",
    "        wPlus_OneSynapse_2d[ kDalpha , kf ] = plus\n",
    "        total_ref, minus_ref, plus_ref  = OneSynapse( 1-Dalpha , f , tau )\n",
    "        wBoth_2D[ kDalpha , kf ] = total + total_ref\n"
   ]
  },
  {
   "cell_type": "code",
   "execution_count": 10,
   "id": "2b18fcf8",
   "metadata": {},
   "outputs": [
    {
     "data": {
      "text/plain": [
       "(0.0, 30.0)"
      ]
     },
     "execution_count": 10,
     "metadata": {},
     "output_type": "execute_result"
    },
    {
     "data": {
      "image/png": "[encoded data removed]",
      "text/plain": [
       "<Figure size 216x144 with 2 Axes>"
      ]
     },
     "metadata": {
      "needs_background": "light"
     },
     "output_type": "display_data"
    }
   ],
   "source": [
    "# define color map\n",
    "JMin = -1.2\n",
    "JMax = 1.5\n",
    "\n",
    "nPointsNeg = int(256*np.abs(JMin)/(JMax-JMin))\n",
    "colors1 = plt.cm.Greens_r(np.linspace(0., 1, nPointsNeg))\n",
    "colors2 = plt.cm.gist_heat_r(np.linspace(0, 1, 256-nPointsNeg))\n",
    "\n",
    "# combine them and build a new colormap\n",
    "colors = np.vstack((colors1, colors2))\n",
    "mymap = mcolors.LinearSegmentedColormap.from_list('my_colormap', colors)\n",
    "\n",
    "plt.figure(figsize=(3,2))\n",
    "\n",
    "cax = plt.contourf( Dalpha_2d , f_array_2d , OneSynapse_2d , levels = np.arange(JMin,JMax+0.01,0.01), cmap=mymap , vmin=JMin, vmax=JMax )\n",
    "#plt.contour( Dalpha_2d , f_array_2d , OneSynapse_2d , levels = [0], colors='white' , vmin=JMin, vmax=JMax, linewidths=7 )\n",
    "plt.contour( Dalpha_2d , f_array_2d , OneSynapse_2d , levels = [0], colors='blue' , vmin=JMin, vmax=JMax, linewidths=2, linestyles='--' )\n",
    "cbar = plt.colorbar( cax, ticks=[-1,-0.5,0,0.5,1] )\n",
    "cbar.ax.set_yticklabels( ['$-\\eta$','',  '$0$', '','$\\eta$'] , fontsize= ticksFontsize )\n",
    "cbar.set_label( '$\\\\mathcal{J}_{ij}/f$' , fontsize=labelFontsize)\n",
    "\n",
    "plt.xticks( [0,0.25,0.5,0.75,1], ['$0$','','$0.5$','','$1$'], fontsize = ticksFontsize )\n",
    "plt.yticks( [0,5,10,15,20,25,30], ['$0$','','$10$','','$20$','','$30$'], fontsize = ticksFontsize )\n",
    "\n",
    "plt.xlabel('$\\\\Delta \\\\alpha_{1}$', fontsize=labelFontsize)\n",
    "plt.ylabel('$f$ (Hz)', fontsize=labelFontsize)\n",
    "plt.xlim(0,1)\n",
    "plt.ylim(0,30)\n",
    "\n",
    "# plt.savefig('J_single_synapse.svg', bbox_inches='tight')\n",
    "# plt.savefig('J_single_synapse.png', bbox_inches='tight', dpi=300)\n",
    "# plt.savefig('J_single_synapse.pdf', bbox_inches='tight')"
   ]
  },
  {
   "cell_type": "markdown",
   "id": "dcf3c729",
   "metadata": {},
   "source": [
    "panel f"
   ]
  },
  {
   "cell_type": "code",
   "execution_count": 11,
   "id": "37c89ebd",
   "metadata": {},
   "outputs": [
    {
     "data": {
      "text/plain": [
       "(0.0, 30.0)"
      ]
     },
     "execution_count": 11,
     "metadata": {},
     "output_type": "execute_result"
    },
    {
     "data": {
      "image/png": "[encoded data removed]",
      "text/plain": [
       "<Figure size 216x144 with 2 Axes>"
      ]
     },
     "metadata": {
      "needs_background": "light"
     },
     "output_type": "display_data"
    }
   ],
   "source": [
    "# define color map\n",
    "JMin = -1.2\n",
    "JMax = 1.5\n",
    "\n",
    "nPointsNeg = int(256*np.abs(JMin)/(JMax-JMin))\n",
    "colors1 = plt.cm.Greens_r(np.linspace(0., 1, nPointsNeg))\n",
    "colors2 = plt.cm.gist_heat_r(np.linspace(0, 1, 256-nPointsNeg))\n",
    "\n",
    "# combine them and build a new colormap\n",
    "colors = np.vstack((colors1, colors2))\n",
    "mymap = mcolors.LinearSegmentedColormap.from_list('my_colormap', colors)\n",
    "\n",
    "plt.figure(figsize=(3,2))\n",
    "\n",
    "cax = plt.contourf( Dalpha_2d , f_array_2d , wBoth_2D , levels = np.arange(JMin,JMax+0.01,0.01), cmap=mymap , vmin=JMin, vmax=JMax )\n",
    "plt.contour( Dalpha_2d , f_array_2d , OneSynapse_2d , levels = [0], colors='blue' , vmin=JMin, vmax=JMax, linewidths=3, linestyles='--' )\n",
    "plt.contour( 1-Dalpha_2d , f_array_2d , OneSynapse_2d , levels = [0], colors='darkblue' , vmin=JMin, vmax=JMax, linewidths=3, linestyles='--' )\n",
    "\n",
    "\n",
    "#plt.contour( Dalpha_2d , f_array_2d , OneSynapse_2d , levels = [0], colors='white' , vmin=JMin, vmax=JMax, linewidths=7 )\n",
    "#plt.contour( Dalpha_2d , f_array_2d , wBoth_2D , levels = [0], colors='0.8' , vmin=JMin, vmax=JMax, linewidths=3, linestyles='--' )\n",
    "cbar = plt.colorbar( cax, ticks=[-1,-0.5,0,0.5,1] )\n",
    "cbar.ax.set_yticklabels( ['-$\\eta$','',  '$0$', '','$\\eta$'] , fontsize= ticksFontsize )\n",
    "# cbar.ax.set_yticklabels( ['-$\\eta$','',  '$0$', '','$\\eta$'] , fontsize= ticksFontsize )\n",
    "cbar.set_label( '$(\\\\mathcal{J}_{ij}+\\\\mathcal{J}_{ji})/f$' , fontsize=labelFontsize)\n",
    "\n",
    "plt.xticks( [0,0.25,0.5,0.75,1], ['$0$','','$0.5$','','$1$'], fontsize = ticksFontsize )\n",
    "plt.yticks( [0,5,10,15,20,25,30], ['$0$','','$10$','','$20$','','$30$'], fontsize = ticksFontsize )\n",
    "\n",
    "plt.xlabel('$\\\\Delta \\\\alpha_{1}$', fontsize=labelFontsize)\n",
    "plt.ylabel('$f$ (Hz)', fontsize=labelFontsize)\n",
    "plt.xlim(0,1)\n",
    "plt.ylim(0,30)\n",
    "\n",
    "# plt.savefig('J_bidirection_synapse.svg', bbox_inches='tight')\n",
    "# plt.savefig('J_bidirection_synapse.png', bbox_inches='tight', dpi=300)\n",
    "# plt.savefig('J_bidirection_synapse.pdf', bbox_inches='tight')"
   ]
  },
  {
   "cell_type": "markdown",
   "id": "74bff093",
   "metadata": {},
   "source": [
    "# functions"
   ]
  },
  {
   "cell_type": "code",
   "execution_count": 8,
   "id": "c3c847dd",
   "metadata": {},
   "outputs": [],
   "source": [
    "# t ... time in ms\n",
    "def STDP( t ):\n",
    "    \n",
    "    tplus = 10.0 # ms\n",
    "    tR = 4.0\n",
    "    beta = 1.4\n",
    "    \n",
    "    W = np.zeros( t.shape )\n",
    "    \n",
    "    W[t<0] = -beta/tR * np.exp( t[t<0]/(tR*tplus) )\n",
    "    W[t>0] = np.exp( -t[t>0]/(tplus) )\n",
    "    \n",
    "    return W\n",
    "\n",
    "def OneSynapse( Dalpha , f_Hz , tau ):\n",
    "    \n",
    "    T_cycle = 1000.0/f_Hz # ms\n",
    "    return STDP( -( tau + (1-Dalpha)*T_cycle ) ) + STDP( Dalpha*T_cycle - tau ), STDP( -( tau + (1-Dalpha)*T_cycle ) ) , STDP( Dalpha*T_cycle - tau )\n"
   ]
  },
  {
   "cell_type": "code",
   "execution_count": null,
   "id": "233e58ff",
   "metadata": {},
   "outputs": [],
   "source": []
  }
 ],
 "metadata": {
  "kernelspec": {
   "display_name": "Python 3",
   "language": "python",
   "name": "python3"
  },
  "language_info": {
   "codemirror_mode": {
    "name": "ipython",
    "version": 3
   },
   "file_extension": ".py",
   "mimetype": "text/x-python",
   "name": "python",
   "nbconvert_exporter": "python",
   "pygments_lexer": "ipython3",
   "version": "3.8.8"
  }
 },
 "nbformat": 4,
 "nbformat_minor": 5
}
